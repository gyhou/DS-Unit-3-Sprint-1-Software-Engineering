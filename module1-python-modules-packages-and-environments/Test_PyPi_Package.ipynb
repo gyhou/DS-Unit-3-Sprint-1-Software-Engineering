{
  "nbformat": 4,
  "nbformat_minor": 0,
  "metadata": {
    "colab": {
      "name": "Test PyPi Package",
      "version": "0.3.2",
      "provenance": [],
      "include_colab_link": true
    },
    "kernelspec": {
      "name": "python3",
      "display_name": "Python 3"
    }
  },
  "cells": [
    {
      "cell_type": "markdown",
      "metadata": {
        "id": "view-in-github",
        "colab_type": "text"
      },
      "source": [
        "<a href=\"https://colab.research.google.com/github/zevan07/DS-Unit-3-Sprint-1-Software-Engineering/blob/master/Test_PyPi_Package.ipynb\" target=\"_parent\"><img src=\"https://colab.research.google.com/assets/colab-badge.svg\" alt=\"Open In Colab\"/></a>"
      ]
    },
    {
      "cell_type": "code",
      "metadata": {
        "id": "dqGUM_x0YVb_",
        "colab_type": "code",
        "colab": {}
      },
      "source": [
        "import pandas as pd\n",
        "df = pd.read_csv(\"https://data.baltimorecity.gov/api/views/wsfq-mvij/rows.csv?accessType=DOWNLOAD\")"
      ],
      "execution_count": 0,
      "outputs": []
    },
    {
      "cell_type": "code",
      "metadata": {
        "id": "eaVGOBi7lcNW",
        "colab_type": "code",
        "colab": {
          "base_uri": "https://localhost:8080/",
          "height": 416
        },
        "outputId": "124da461-4747-47bc-d2b7-03e00fe90266"
      },
      "source": [
        "df.head()"
      ],
      "execution_count": 9,
      "outputs": [
        {
          "output_type": "execute_result",
          "data": {
            "text/html": [
              "<div>\n",
              "<style scoped>\n",
              "    .dataframe tbody tr th:only-of-type {\n",
              "        vertical-align: middle;\n",
              "    }\n",
              "\n",
              "    .dataframe tbody tr th {\n",
              "        vertical-align: top;\n",
              "    }\n",
              "\n",
              "    .dataframe thead th {\n",
              "        text-align: right;\n",
              "    }\n",
              "</style>\n",
              "<table border=\"1\" class=\"dataframe\">\n",
              "  <thead>\n",
              "    <tr style=\"text-align: right;\">\n",
              "      <th></th>\n",
              "      <th>CrimeDate</th>\n",
              "      <th>CrimeTime</th>\n",
              "      <th>CrimeCode</th>\n",
              "      <th>Location</th>\n",
              "      <th>Description</th>\n",
              "      <th>Inside/Outside</th>\n",
              "      <th>Weapon</th>\n",
              "      <th>Post</th>\n",
              "      <th>District</th>\n",
              "      <th>Neighborhood</th>\n",
              "      <th>Longitude</th>\n",
              "      <th>Latitude</th>\n",
              "      <th>Location 1</th>\n",
              "      <th>Premise</th>\n",
              "      <th>vri_name1</th>\n",
              "      <th>Total Incidents</th>\n",
              "    </tr>\n",
              "  </thead>\n",
              "  <tbody>\n",
              "    <tr>\n",
              "      <th>0</th>\n",
              "      <td>07/27/2019</td>\n",
              "      <td>10:00:00</td>\n",
              "      <td>3AF</td>\n",
              "      <td>3500 CLIFTMONT AVE</td>\n",
              "      <td>ROBBERY - STREET</td>\n",
              "      <td>O</td>\n",
              "      <td>FIREARM</td>\n",
              "      <td>432.0</td>\n",
              "      <td>NORTHEAST</td>\n",
              "      <td>BELAIR-EDISON</td>\n",
              "      <td>-76.565780</td>\n",
              "      <td>39.319335</td>\n",
              "      <td>NaN</td>\n",
              "      <td>STREET</td>\n",
              "      <td>Northeastern</td>\n",
              "      <td>1</td>\n",
              "    </tr>\n",
              "    <tr>\n",
              "      <th>1</th>\n",
              "      <td>07/27/2019</td>\n",
              "      <td>10:00:00</td>\n",
              "      <td>3AF</td>\n",
              "      <td>3500 CLIFTMONT AVE</td>\n",
              "      <td>ROBBERY - STREET</td>\n",
              "      <td>O</td>\n",
              "      <td>FIREARM</td>\n",
              "      <td>432.0</td>\n",
              "      <td>NORTHEAST</td>\n",
              "      <td>BELAIR-EDISON</td>\n",
              "      <td>-76.565780</td>\n",
              "      <td>39.319335</td>\n",
              "      <td>NaN</td>\n",
              "      <td>STREET</td>\n",
              "      <td>Northeastern</td>\n",
              "      <td>1</td>\n",
              "    </tr>\n",
              "    <tr>\n",
              "      <th>2</th>\n",
              "      <td>07/27/2019</td>\n",
              "      <td>11:08:00</td>\n",
              "      <td>4E</td>\n",
              "      <td>3300 PIEDMONT AVE</td>\n",
              "      <td>COMMON ASSAULT</td>\n",
              "      <td>I</td>\n",
              "      <td>NaN</td>\n",
              "      <td>641.0</td>\n",
              "      <td>NORTHWEST</td>\n",
              "      <td>NaN</td>\n",
              "      <td>-76.672827</td>\n",
              "      <td>39.316374</td>\n",
              "      <td>NaN</td>\n",
              "      <td>ROW/TOWNHOUSE-OCC</td>\n",
              "      <td>NaN</td>\n",
              "      <td>1</td>\n",
              "    </tr>\n",
              "    <tr>\n",
              "      <th>3</th>\n",
              "      <td>07/27/2019</td>\n",
              "      <td>01:00:00</td>\n",
              "      <td>6D</td>\n",
              "      <td>4000 PRIMROSE AVE</td>\n",
              "      <td>LARCENY FROM AUTO</td>\n",
              "      <td>O</td>\n",
              "      <td>NaN</td>\n",
              "      <td>632.0</td>\n",
              "      <td>NORTHWEST</td>\n",
              "      <td>GLEN</td>\n",
              "      <td>-76.693210</td>\n",
              "      <td>39.351204</td>\n",
              "      <td>NaN</td>\n",
              "      <td>STREET</td>\n",
              "      <td>NaN</td>\n",
              "      <td>1</td>\n",
              "    </tr>\n",
              "    <tr>\n",
              "      <th>4</th>\n",
              "      <td>07/27/2019</td>\n",
              "      <td>19:46:00</td>\n",
              "      <td>4C</td>\n",
              "      <td>3700 BENSON AVE</td>\n",
              "      <td>AGG. ASSAULT</td>\n",
              "      <td>I</td>\n",
              "      <td>OTHER</td>\n",
              "      <td>832.0</td>\n",
              "      <td>SOUTHWEST</td>\n",
              "      <td>VIOLETVILLE</td>\n",
              "      <td>-76.675800</td>\n",
              "      <td>39.263838</td>\n",
              "      <td>NaN</td>\n",
              "      <td>ROW/TOWNHOUSE-OCC</td>\n",
              "      <td>NaN</td>\n",
              "      <td>1</td>\n",
              "    </tr>\n",
              "  </tbody>\n",
              "</table>\n",
              "</div>"
            ],
            "text/plain": [
              "    CrimeDate CrimeTime  ...     vri_name1 Total Incidents\n",
              "0  07/27/2019  10:00:00  ...  Northeastern               1\n",
              "1  07/27/2019  10:00:00  ...  Northeastern               1\n",
              "2  07/27/2019  11:08:00  ...           NaN               1\n",
              "3  07/27/2019  01:00:00  ...           NaN               1\n",
              "4  07/27/2019  19:46:00  ...           NaN               1\n",
              "\n",
              "[5 rows x 16 columns]"
            ]
          },
          "metadata": {
            "tags": []
          },
          "execution_count": 9
        }
      ]
    },
    {
      "cell_type": "code",
      "metadata": {
        "id": "MOtqWLMnzu57",
        "colab_type": "code",
        "colab": {
          "base_uri": "https://localhost:8080/",
          "height": 144
        },
        "outputId": "75870d56-bd46-409d-9ef9-9341508fd0bb"
      },
      "source": [
        "!pip install --index-url https://test.pypi.org/simple/ --no-deps lambdata_oliverash\n"
      ],
      "execution_count": 1,
      "outputs": [
        {
          "output_type": "stream",
          "text": [
            "Looking in indexes: https://test.pypi.org/simple/\n",
            "Collecting lambdata_oliverash\n",
            "  Downloading https://test-files.pythonhosted.org/packages/a0/d5/792a13df0bed8dd77153e970ad6e2425f7ba6f50fc1c5d0eb2e0de97bb67/lambdata_oliverash-0.0.3-py3-none-any.whl\n",
            "Installing collected packages: lambdata-oliverash\n",
            "Successfully installed lambdata-oliverash-0.0.3\n"
          ],
          "name": "stdout"
        }
      ]
    },
    {
      "cell_type": "code",
      "metadata": {
        "id": "3Mj7-v4fzUfx",
        "colab_type": "code",
        "colab": {}
      },
      "source": [
        "import lambdata_oliverash as oa"
      ],
      "execution_count": 0,
      "outputs": []
    },
    {
      "cell_type": "code",
      "metadata": {
        "id": "PGCnCsnd7snP",
        "colab_type": "code",
        "colab": {
          "base_uri": "https://localhost:8080/",
          "height": 238
        },
        "outputId": "efc9e997-b9e3-4928-cb00-8d078adc158d"
      },
      "source": [
        "dir(lambdata_oliverash)"
      ],
      "execution_count": 5,
      "outputs": [
        {
          "output_type": "execute_result",
          "data": {
            "text/plain": [
              "['__builtins__',\n",
              " '__cached__',\n",
              " '__doc__',\n",
              " '__file__',\n",
              " '__loader__',\n",
              " '__name__',\n",
              " '__package__',\n",
              " '__path__',\n",
              " '__spec__',\n",
              " 'name',\n",
              " 'pd',\n",
              " 'to_date_format',\n",
              " 'to_time_format']"
            ]
          },
          "metadata": {
            "tags": []
          },
          "execution_count": 5
        }
      ]
    }
  ]
}
