{
  "nbformat": 4,
  "nbformat_minor": 0,
  "metadata": {
    "colab": {
      "name": "Complex Operations",
      "version": "0.3.2",
      "provenance": [],
      "include_colab_link": true
    },
    "kernelspec": {
      "name": "python3",
      "display_name": "Python 3"
    }
  },
  "cells": [
    {
      "cell_type": "markdown",
      "metadata": {
        "id": "view-in-github",
        "colab_type": "text"
      },
      "source": [
        "<a href=\"https://colab.research.google.com/github/zevan07/DS-Unit-3-Sprint-1-Software-Engineering/blob/master/Complex_Operations.ipynb\" target=\"_parent\"><img src=\"https://colab.research.google.com/assets/colab-badge.svg\" alt=\"Open In Colab\"/></a>"
      ]
    },
    {
      "cell_type": "code",
      "metadata": {
        "id": "m5kSe5gQJ7WH",
        "colab_type": "code",
        "colab": {
          "base_uri": "https://localhost:8080/",
          "height": 144
        },
        "outputId": "8a3052d4-6a2d-484a-b389-726820a458f8"
      },
      "source": [
        "!pip install --index-url https://test.pypi.org/simple/ --no-deps lambdata_oliverash"
      ],
      "execution_count": 1,
      "outputs": [
        {
          "output_type": "stream",
          "text": [
            "Looking in indexes: https://test.pypi.org/simple/\n",
            "Collecting lambdata_oliverash\n",
            "  Downloading https://test-files.pythonhosted.org/packages/f7/d0/59156e3f4951639a8beda1a1dc1db4cd2396b245c9c39a2ef973f019a150/lambdata_oliverash-0.0.5-py3-none-any.whl\n",
            "Installing collected packages: lambdata-oliverash\n",
            "Successfully installed lambdata-oliverash-0.0.5\n"
          ],
          "name": "stdout"
        }
      ]
    },
    {
      "cell_type": "code",
      "metadata": {
        "id": "xzlC3UK3J_OU",
        "colab_type": "code",
        "colab": {}
      },
      "source": [
        "import lambdata_oliverash as oa"
      ],
      "execution_count": 0,
      "outputs": []
    },
    {
      "cell_type": "code",
      "metadata": {
        "id": "eyQvHYl9KLA-",
        "colab_type": "code",
        "colab": {
          "base_uri": "https://localhost:8080/",
          "height": 255
        },
        "outputId": "a66d856f-b822-402e-e3f4-5a97ddca0751"
      },
      "source": [
        "dir(oa)"
      ],
      "execution_count": 3,
      "outputs": [
        {
          "output_type": "execute_result",
          "data": {
            "text/plain": [
              "['Complex',\n",
              " '__builtins__',\n",
              " '__cached__',\n",
              " '__doc__',\n",
              " '__file__',\n",
              " '__loader__',\n",
              " '__name__',\n",
              " '__package__',\n",
              " '__path__',\n",
              " '__spec__',\n",
              " 'name',\n",
              " 'pd',\n",
              " 'to_date_format',\n",
              " 'to_time_format']"
            ]
          },
          "metadata": {
            "tags": []
          },
          "execution_count": 3
        }
      ]
    },
    {
      "cell_type": "code",
      "metadata": {
        "id": "DWQjedoXLcTc",
        "colab_type": "code",
        "colab": {}
      },
      "source": [
        "from lambdata_oliverash import Complex"
      ],
      "execution_count": 0,
      "outputs": []
    },
    {
      "cell_type": "code",
      "metadata": {
        "id": "5Cw7ly26_h62",
        "colab_type": "code",
        "colab": {
          "base_uri": "https://localhost:8080/",
          "height": 34
        },
        "outputId": "7c3fa08d-ab85-4196-ee61-910ba27af70e"
      },
      "source": [
        "x = Complex(3.0, -4.5)\n",
        "y = Complex(2, 1)\n",
        "z = x * y\n",
        "z.r, z.i"
      ],
      "execution_count": 5,
      "outputs": [
        {
          "output_type": "execute_result",
          "data": {
            "text/plain": [
              "(10.5, -6.0)"
            ]
          },
          "metadata": {
            "tags": []
          },
          "execution_count": 5
        }
      ]
    },
    {
      "cell_type": "code",
      "metadata": {
        "id": "f3S4o0XOGfEm",
        "colab_type": "code",
        "colab": {
          "base_uri": "https://localhost:8080/",
          "height": 34
        },
        "outputId": "ce9dec1c-ee86-45c3-e36e-fd08c6bb9f51"
      },
      "source": [
        "type(z.r)"
      ],
      "execution_count": 7,
      "outputs": [
        {
          "output_type": "execute_result",
          "data": {
            "text/plain": [
              "float"
            ]
          },
          "metadata": {
            "tags": []
          },
          "execution_count": 7
        }
      ]
    },
    {
      "cell_type": "code",
      "metadata": {
        "id": "z3ITPHyLPBld",
        "colab_type": "code",
        "colab": {}
      },
      "source": [
        ""
      ],
      "execution_count": 0,
      "outputs": []
    }
  ]
}
